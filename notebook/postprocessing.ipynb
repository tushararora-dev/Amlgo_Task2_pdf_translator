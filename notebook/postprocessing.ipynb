{
 "cells": [
  {
   "cell_type": "code",
   "execution_count": 11,
   "id": "0ba9dcf6",
   "metadata": {},
   "outputs": [],
   "source": [
    "import re\n",
    "from typing import List, Tuple\n",
    "\n",
    "# Common abbreviations and patterns to skip\n",
    "ABBREVIATIONS = {'AI', 'ML', 'API', 'URL', 'PDF', 'HTML', 'CSS', 'JS', 'SQL', 'JSON', 'HTTP', 'HTTPS',\n",
    "                 'NASA', 'FBI', 'CEO', 'CTO', 'PhD', 'MBA', 'USA', 'UK', 'UAE', 'CPU', 'GPU'}\n",
    "\n",
    "def should_skip_translation(text: str) -> bool:\n",
    "    text = text.strip()\n",
    "    if len(text) < 2:\n",
    "        return True\n",
    "    if text.upper() in ABBREVIATIONS:\n",
    "        return True\n",
    "    if re.fullmatch(r'^[\\d\\W_]+$', text):  # numbers, symbols, punctuation\n",
    "        return True\n",
    "    if re.search(r'(http|www\\.|@|\\.com|\\.pdf|\\.png)', text.lower()):\n",
    "        return True\n",
    "    if re.fullmatch(r'[A-Z0-9_\\-\\.]+', text):  # like FILE_NAME_123.PDF\n",
    "        return True\n",
    "    if re.fullmatch(r'v?\\d+(\\.\\d+)*([a-zA-Z]+\\d*)?', text):  # versions like 1.0.2a\n",
    "        return True\n",
    "    return False\n",
    "\n",
    "def preprocess_text(text: str) -> List[Tuple[str, bool]]:\n",
    "    if not text.strip():\n",
    "        return []\n",
    "\n",
    "    tokens = re.findall(r'\\S+|\\s+', text)\n",
    "    segments = []\n",
    "    current_text = ''\n",
    "    current_flag = None\n",
    "\n",
    "    for token in tokens:\n",
    "        flag = not should_skip_translation(token) if not token.isspace() else current_flag\n",
    "\n",
    "        if current_flag is None or flag == current_flag:\n",
    "            current_text += token\n",
    "        else:\n",
    "            segments.append((current_text, current_flag))\n",
    "            current_text = token\n",
    "\n",
    "        if not token.isspace():\n",
    "            current_flag = flag\n",
    "\n",
    "    if current_text.strip():\n",
    "        segments.append((current_text, current_flag))\n",
    "\n",
    "    return segments\n"
   ]
  },
  {
   "cell_type": "code",
   "execution_count": 12,
   "id": "7110a7b2",
   "metadata": {},
   "outputs": [
    {
     "data": {
      "text/plain": [
       "[('Amlgo Labs uses ', True), ('AI ', False), ('and ', True), ('ML.', False)]"
      ]
     },
     "execution_count": 12,
     "metadata": {},
     "output_type": "execute_result"
    }
   ],
   "source": [
    "preprocess_text(\"Amlgo Labs uses AI and ML.\")"
   ]
  },
  {
   "cell_type": "code",
   "execution_count": 16,
   "id": "a5ca60a6",
   "metadata": {},
   "outputs": [
    {
     "name": "stdout",
     "output_type": "stream",
     "text": [
      "'   नमस्ते दुनिया!   '\n"
     ]
    }
   ],
   "source": [
    "def postprocess_translated_text(original: str, translated: str) -> str:\n",
    "    leading_spaces = len(original) - len(original.lstrip())\n",
    "    trailing_spaces = len(original) - len(original.rstrip())\n",
    "    return ' ' * leading_spaces + translated.strip() + ' ' * trailing_spaces\n",
    "\n",
    "# Example usage\n",
    "original = \"   Hello World!   \"\n",
    "translated = \"  नमस्ते दुनिया!                  \"\n",
    "\n",
    "result = postprocess_translated_text(original, translated)\n",
    "print(repr(result))"
   ]
  },
  {
   "cell_type": "code",
   "execution_count": null,
   "id": "41ab8293",
   "metadata": {},
   "outputs": [],
   "source": []
  }
 ],
 "metadata": {
  "kernelspec": {
   "display_name": "pdftrans",
   "language": "python",
   "name": "python3"
  },
  "language_info": {
   "codemirror_mode": {
    "name": "ipython",
    "version": 3
   },
   "file_extension": ".py",
   "mimetype": "text/x-python",
   "name": "python",
   "nbconvert_exporter": "python",
   "pygments_lexer": "ipython3",
   "version": "3.10.18"
  }
 },
 "nbformat": 4,
 "nbformat_minor": 5
}
