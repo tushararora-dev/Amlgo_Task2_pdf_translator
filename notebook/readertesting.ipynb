{
 "cells": [
  {
   "cell_type": "code",
   "execution_count": 10,
   "id": "bc150ff3",
   "metadata": {},
   "outputs": [
    {
     "name": "stdout",
     "output_type": "stream",
     "text": [
      "Validating PDF...\n",
      "PDF is valid.\n"
     ]
    },
    {
     "data": {
      "text/plain": [
       "True"
      ]
     },
     "execution_count": 10,
     "metadata": {},
     "output_type": "execute_result"
    }
   ],
   "source": [
    "import pymupdf as fitz \n",
    "from typing import List, Dict\n",
    "\n",
    "def validate_pdf(file_bytes: bytes) -> bool:\n",
    "    print(\"Validating PDF...\")\n",
    "    fitz.open(stream=file_bytes, filetype=\"pdf\").close()\n",
    "    print(\"PDF is valid.\")\n",
    "    return True\n",
    "\n",
    "\n",
    "with open(\"Testing.pdf\", \"rb\") as f:\n",
    "    file_bytes = f.read()\n",
    "\n",
    "validate_pdf(file_bytes)"
   ]
  },
  {
   "cell_type": "code",
   "execution_count": 11,
   "id": "0a8f3588",
   "metadata": {},
   "outputs": [
    {
     "name": "stdout",
     "output_type": "stream",
     "text": [
      "Extracting text blocks from PDF...\n",
      "Processing page 1/2\n",
      "Processing page 2/2\n",
      "Total text blocks extracted: 39\n"
     ]
    },
    {
     "data": {
      "text/plain": [
       "[{'page': 0,\n",
       "  'text': '📌 Task Overview \\n',\n",
       "  'bbox': (72.0, 100.6922607421875, 185.50848388671875, 115.9647216796875),\n",
       "  'block_type': 1,\n",
       "  'block_no': 0},\n",
       " {'page': 0,\n",
       "  'text': 'Build a web application that can translate PDF files between Hindi and English, in both \\ndirections. The application should allow users to: \\n',\n",
       "  'bbox': (72.0, 130.09716796875, 514.901123046875, 156.9324951171875),\n",
       "  'block_type': 2,\n",
       "  'block_no': 0},\n",
       " {'page': 0,\n",
       "  'text': '●\\u200b Upload a PDF\\u200b\\n',\n",
       "  'bbox': (90.0, 171.189697265625, 180.09730529785156, 183.478759765625),\n",
       "  'block_type': 3,\n",
       "  'block_no': 0},\n",
       " {'page': 0,\n",
       "  'text': ' \\n●\\u200b Choose translation direction (Hindi → English or English → Hindi)\\u200b\\n',\n",
       "  'bbox': (90.0, 185.7359619140625, 429.97637939453125, 212.5712890625),\n",
       "  'block_type': 4,\n",
       "  'block_no': 0},\n",
       " {'page': 0,\n",
       "  'text': ' \\n●\\u200b Download a translated PDF that retains the original structure\\u200b\\n',\n",
       "  'bbox': (90.0, 214.8284912109375, 405.55523681640625, 241.663818359375),\n",
       "  'block_type': 5,\n",
       "  'block_no': 0},\n",
       " {'page': 0,\n",
       "  'text': '✅ Functional Requirements \\n',\n",
       "  'bbox': (72.0, 298.7996826171875, 251.415771484375, 314.0721435546875),\n",
       "  'block_type': 8,\n",
       "  'block_no': 0},\n",
       " {'page': 0,\n",
       "  'text': '🔁 Language Translation \\n',\n",
       "  'bbox': (72.0, 327.96826171875, 205.4380340576172, 340.89111328125),\n",
       "  'block_type': 9,\n",
       "  'block_no': 0},\n",
       " {'page': 0,\n",
       "  'text': '●\\u200b The app must support two-way translation: Hindi ↔ English\\u200b\\n',\n",
       "  'bbox': (90.0, 354.7508544921875, 407.9544372558594, 367.0399169921875),\n",
       "  'block_type': 10,\n",
       "  'block_no': 0},\n",
       " {'page': 0,\n",
       "  'text': ' \\n●\\u200b Translation should be intelligent:\\u200b\\n',\n",
       "  'bbox': (90.0, 369.297119140625, 273.76678466796875, 396.1324462890625),\n",
       "  'block_type': 11,\n",
       "  'block_no': 0},\n",
       " {'page': 0,\n",
       "  'text': '○\\u200b Do not translate abbreviations or acronyms (e.g., “AI”, “NASA”)\\u200b\\n',\n",
       "  'bbox': (126.0, 412.9359130859375, 469.5724182128906, 425.2249755859375),\n",
       "  'block_type': 13,\n",
       "  'block_no': 0},\n",
       " {'page': 0,\n",
       "  'text': ' \\n○\\u200b Skip translation of fully capitalized words (e.g., “PDF”, “ML”)\\u200b\\n',\n",
       "  'bbox': (126.0, 427.482177734375, 456.09521484375, 454.3175048828125),\n",
       "  'block_type': 14,\n",
       "  'block_no': 0},\n",
       " {'page': 0,\n",
       "  'text': ' \\n○\\u200b Ensure contextual accuracy\\u200b\\n',\n",
       "  'bbox': (126.0, 456.57470703125, 290.6380920410156, 483.4100341796875),\n",
       "  'block_type': 15,\n",
       "  'block_no': 0},\n",
       " {'page': 0,\n",
       "  'text': '📄 PDF Handling \\n',\n",
       "  'bbox': (72.0, 511.9771728515625, 163.89036560058594, 524.9000244140625),\n",
       "  'block_type': 17,\n",
       "  'block_no': 0},\n",
       " {'page': 0,\n",
       "  'text': '●\\u200b Input PDFs may include text, tables, images, and complex formatting\\u200b\\n',\n",
       "  'bbox': (90.0, 538.759765625, 461.7131042480469, 551.048828125),\n",
       "  'block_type': 18,\n",
       "  'block_no': 0},\n",
       " {'page': 0,\n",
       "  'text': ' \\n●\\u200b Output PDF must preserve:\\u200b\\n',\n",
       "  'bbox': (90.0, 553.3060302734375, 244.84278869628906, 580.141357421875),\n",
       "  'block_type': 19,\n",
       "  'block_no': 0},\n",
       " {'page': 0,\n",
       "  'text': '○\\u200b Original fonts and formatting\\u200b\\n',\n",
       "  'bbox': (126.0, 596.94482421875, 294.8460388183594, 609.23388671875),\n",
       "  'block_type': 21,\n",
       "  'block_no': 0},\n",
       " {'page': 0,\n",
       "  'text': ' \\n○\\u200b Page structure\\u200b\\n',\n",
       "  'bbox': (126.0, 611.4910888671875, 224.0301513671875, 638.326416015625),\n",
       "  'block_type': 22,\n",
       "  'block_no': 0},\n",
       " {'page': 0,\n",
       "  'text': ' \\n○\\u200b Tables and images\\u200b\\n',\n",
       "  'bbox': (126.0, 640.5836181640625, 244.5969696044922, 667.4189453125),\n",
       "  'block_type': 23,\n",
       "  'block_no': 0},\n",
       " {'page': 0,\n",
       "  'text': ' \\n●\\u200b The solution must support multi-page PDFs \\n',\n",
       "  'bbox': (90.0, 669.6761474609375, 327.3110656738281, 696.511474609375),\n",
       "  'block_type': 24,\n",
       "  'block_no': 0},\n",
       " {'page': 1,\n",
       "  'text': '🌐 Web Application UI \\n',\n",
       "  'bbox': (72.0, 72.12353515625, 191.78396606445312, 85.04638671875),\n",
       "  'block_type': 0,\n",
       "  'block_no': 0},\n",
       " {'page': 1,\n",
       "  'text': '●\\u200b Simple interface to:\\u200b\\n',\n",
       "  'bbox': (90.0, 98.9061279296875, 205.1464080810547, 111.1951904296875),\n",
       "  'block_type': 1,\n",
       "  'block_no': 0},\n",
       " {'page': 1,\n",
       "  'text': '○\\u200b Upload a PDF file\\u200b\\n',\n",
       "  'bbox': (126.0, 127.9986572265625, 233.2028350830078, 140.2877197265625),\n",
       "  'block_type': 3,\n",
       "  'block_no': 0},\n",
       " {'page': 1,\n",
       "  'text': ' \\n○\\u200b Select translation direction\\u200b\\n',\n",
       "  'bbox': (126.0, 142.544921875, 275.9800720214844, 169.3802490234375),\n",
       "  'block_type': 4,\n",
       "  'block_no': 0},\n",
       " {'page': 1,\n",
       "  'text': ' \\n○\\u200b Download the translated PDF\\u200b\\n',\n",
       "  'bbox': (126.0, 171.637451171875, 290.6434631347656, 198.4727783203125),\n",
       "  'block_type': 5,\n",
       "  'block_no': 0},\n",
       " {'page': 1,\n",
       "  'text': '⚙️ Technical Notes \\n',\n",
       "  'bbox': (72.0, 255.619873046875, 203.5183868408203, 272.067138671875),\n",
       "  'block_type': 8,\n",
       "  'block_no': 0},\n",
       " {'page': 1,\n",
       "  'text': '●\\u200b You may use any programming language or framework (please specify your tech \\n',\n",
       "  'bbox': (90.0, 286.3359375, 512.6693115234375, 298.625),\n",
       "  'block_type': 9,\n",
       "  'block_no': 0},\n",
       " {'page': 1,\n",
       "  'text': 'stack). \\n●\\u200b We encourage using Streamlit for a quick UI—consider deploying your app on Streamlit \\n',\n",
       "  'bbox': (90.0, 300.8822021484375, 536.1033935546875, 327.717529296875),\n",
       "  'block_type': 10,\n",
       "  'block_no': 0},\n",
       " {'page': 1,\n",
       "  'text': 'Cloud, which is free. \\n●\\u200b You are free to use any open-source LLM model or translation API, as long as it is \\n',\n",
       "  'bbox': (90.0, 329.9747314453125, 509.03564453125, 356.81005859375),\n",
       "  'block_type': 11,\n",
       "  'block_no': 0},\n",
       " {'page': 1,\n",
       "  'text': 'genuinely free to use at a minimum of 10 PDF translations per day. \\n',\n",
       "  'bbox': (108.0, 359.0672607421875, 459.22802734375, 371.3563232421875),\n",
       "  'block_type': 12,\n",
       "  'block_no': 0},\n",
       " {'page': 1,\n",
       "  'text': \"○\\u200b Note: APIs that offer only a limited-time trial (e.g., Google Cloud's $300 trial) \\n\",\n",
       "  'bbox': (126.0, 373.613525390625, 543.007568359375, 385.902587890625),\n",
       "  'block_type': 13,\n",
       "  'block_no': 0},\n",
       " {'page': 1,\n",
       "  'text': 'do not qualify as free for this task. \\n●\\u200b Clearly list any libraries, models, or APIs used in your submission. \\n',\n",
       "  'bbox': (90.0, 388.1597900390625, 443.3838195800781, 414.9951171875),\n",
       "  'block_type': 14,\n",
       "  'block_no': 0},\n",
       " {'page': 1,\n",
       "  'text': '🚀 Deployment Requirement \\n',\n",
       "  'bbox': (72.0, 457.584716796875, 252.8689422607422, 472.857177734375),\n",
       "  'block_type': 16,\n",
       "  'block_no': 0},\n",
       " {'page': 1,\n",
       "  'text': 'Please deploy your web application (e.g., on Streamlit Cloud) and include: \\n',\n",
       "  'bbox': (72.0, 486.9896240234375, 453.1882019042969, 499.2786865234375),\n",
       "  'block_type': 17,\n",
       "  'block_no': 0},\n",
       " {'page': 1,\n",
       "  'text': '●\\u200b A public link to access your live app\\u200b\\n',\n",
       "  'bbox': (90.0, 513.535888671875, 290.6632995605469, 525.824951171875),\n",
       "  'block_type': 18,\n",
       "  'block_no': 0},\n",
       " {'page': 1,\n",
       "  'text': ' \\n●\\u200b A sample input PDF file and the translated output generated via your app\\u200b\\n',\n",
       "  'bbox': (90.0, 528.0821533203125, 481.2607421875, 554.91748046875),\n",
       "  'block_type': 19,\n",
       "  'block_no': 0},\n",
       " {'page': 1,\n",
       "  'text': '📁 Submission Instructions \\n',\n",
       "  'bbox': (72.0, 612.0533447265625, 247.0816192626953, 627.3258056640625),\n",
       "  'block_type': 22,\n",
       "  'block_no': 0},\n",
       " {'page': 1,\n",
       "  'text': '●\\u200b Submit your solution as a GitHub repository or ZIP file\\u200b\\n',\n",
       "  'bbox': (90.0, 641.458251953125, 382.88922119140625, 653.747314453125),\n",
       "  'block_type': 23,\n",
       "  'block_no': 0},\n",
       " {'page': 1,\n",
       "  'text': ' \\n●\\u200b Include a clear README with setup instructions \\n',\n",
       "  'bbox': (90.0, 656.0045166015625, 344.4326477050781, 682.83984375),\n",
       "  'block_type': 24,\n",
       "  'block_no': 0},\n",
       " {'page': 1,\n",
       "  'text': 'For any queries, feel free to contact us at ankit.kumar@amlgolabs.com \\n',\n",
       "  'bbox': (72.0, 697.0970458984375, 419.8037414550781, 709.3861083984375),\n",
       "  'block_type': 25,\n",
       "  'block_no': 0}]"
      ]
     },
     "execution_count": 11,
     "metadata": {},
     "output_type": "execute_result"
    }
   ],
   "source": [
    "def extract_text_blocks(file_bytes: bytes):\n",
    "    print(\"Extracting text blocks from PDF...\")\n",
    "    doc = fitz.open(stream=file_bytes, filetype=\"pdf\")\n",
    "    blocks_info = []\n",
    "    for page_num, page in enumerate(doc):\n",
    "        print(f\"Processing page {page_num + 1}/{len(doc)}\")\n",
    "        for block in page.get_text(\"blocks\", flags=fitz.TEXT_DEHYPHENATE):\n",
    "            if len(block) >= 5 and block[4].strip():\n",
    "                blocks_info.append({\n",
    "                    'page': page_num,\n",
    "                    'text': block[4],\n",
    "                    'bbox': block[:4],\n",
    "                    'block_type': block[5] if len(block) > 5 else 0,\n",
    "                    'block_no': block[6] if len(block) > 6 else 0\n",
    "                })\n",
    "    doc.close()\n",
    "    print(f\"Total text blocks extracted: {len(blocks_info)}\")\n",
    "    return blocks_info\n",
    "\n",
    "extract_text_blocks(file_bytes)"
   ]
  },
  {
   "cell_type": "code",
   "execution_count": 12,
   "id": "65bd98a1",
   "metadata": {},
   "outputs": [
    {
     "name": "stdout",
     "output_type": "stream",
     "text": [
      "Extracting simple text from PDF...\n",
      "Total characters extracted: 2059\n"
     ]
    },
    {
     "data": {
      "text/plain": [
       "\"📌 Task Overview \\nBuild a web application that can translate PDF files between Hindi and English, in both \\ndirections. The application should allow users to: \\n●\\u200b Upload a PDF\\u200b\\n \\n●\\u200b Choose translation direction (Hindi → English or English → Hindi)\\u200b\\n \\n●\\u200b Download a translated PDF that retains the original structure\\u200b\\n \\n \\n✅ Functional Requirements \\n🔁 Language Translation \\n●\\u200b The app must support two-way translation: Hindi ↔ English\\u200b\\n \\n●\\u200b Translation should be intelligent:\\u200b\\n \\n○\\u200b Do not translate abbreviations or acronyms (e.g., “AI”, “NASA”)\\u200b\\n \\n○\\u200b Skip translation of fully capitalized words (e.g., “PDF”, “ML”)\\u200b\\n \\n○\\u200b Ensure contextual accuracy\\u200b\\n \\n📄 PDF Handling \\n●\\u200b Input PDFs may include text, tables, images, and complex formatting\\u200b\\n \\n●\\u200b Output PDF must preserve:\\u200b\\n \\n○\\u200b Original fonts and formatting\\u200b\\n \\n○\\u200b Page structure\\u200b\\n \\n○\\u200b Tables and images\\u200b\\n \\n●\\u200b The solution must support multi-page PDFs \\n\\n\\n🌐 Web Application UI \\n●\\u200b Simple interface to:\\u200b\\n \\n○\\u200b Upload a PDF file\\u200b\\n \\n○\\u200b Select translation direction\\u200b\\n \\n○\\u200b Download the translated PDF\\u200b\\n \\n \\n⚙️ Technical Notes \\n●\\u200b You may use any programming language or framework (please specify your tech \\nstack). \\n●\\u200b We encourage using Streamlit for a quick UI—consider deploying your app on Streamlit \\nCloud, which is free. \\n●\\u200b You are free to use any open-source LLM model or translation API, as long as it is \\ngenuinely free to use at a minimum of 10 PDF translations per day. \\n○\\u200b Note: APIs that offer only a limited-time trial (e.g., Google Cloud's $300 trial) \\ndo not qualify as free for this task. \\n●\\u200b Clearly list any libraries, models, or APIs used in your submission. \\n \\n🚀 Deployment Requirement \\nPlease deploy your web application (e.g., on Streamlit Cloud) and include: \\n●\\u200b A public link to access your live app\\u200b\\n \\n●\\u200b A sample input PDF file and the translated output generated via your app\\u200b\\n \\n \\n📁 Submission Instructions \\n●\\u200b Submit your solution as a GitHub repository or ZIP file\\u200b\\n \\n●\\u200b Include a clear README with setup instructions \\nFor any queries, feel free to contact us at ankit.kumar@amlgolabs.com\""
      ]
     },
     "execution_count": 12,
     "metadata": {},
     "output_type": "execute_result"
    }
   ],
   "source": [
    "def extract_simple_text(file_bytes: bytes) -> str:\n",
    "    print(\"Extracting simple text from PDF...\")\n",
    "    doc = fitz.open(stream=file_bytes, filetype=\"pdf\")\n",
    "    text = \"\\n\\n\".join(page.get_text() for page in doc)\n",
    "    doc.close()\n",
    "    print(f\"Total characters extracted: {len(text)}\")\n",
    "    return text.strip()\n",
    "\n",
    "extract_simple_text(file_bytes)"
   ]
  },
  {
   "cell_type": "code",
   "execution_count": 13,
   "id": "5732313d",
   "metadata": {},
   "outputs": [
    {
     "name": "stdout",
     "output_type": "stream",
     "text": [
      "Getting PDF metadata and info...\n",
      "PDF Info: {'page_count': 2, 'metadata': {'format': 'PDF 1.4', 'title': 'PDF Translator Web App', 'author': '', 'subject': '', 'keywords': '', 'creator': '', 'producer': 'Skia/PDF m140 Google Docs Renderer', 'creationDate': '', 'modDate': '', 'trapped': '', 'encryption': None}, 'is_encrypted': False, 'size_bytes': 118420, 'page_width': 612.0, 'page_height': 792.0}\n"
     ]
    },
    {
     "data": {
      "text/plain": [
       "{'page_count': 2,\n",
       " 'metadata': {'format': 'PDF 1.4',\n",
       "  'title': 'PDF Translator Web App',\n",
       "  'author': '',\n",
       "  'subject': '',\n",
       "  'keywords': '',\n",
       "  'creator': '',\n",
       "  'producer': 'Skia/PDF m140 Google Docs Renderer',\n",
       "  'creationDate': '',\n",
       "  'modDate': '',\n",
       "  'trapped': '',\n",
       "  'encryption': None},\n",
       " 'is_encrypted': False,\n",
       " 'size_bytes': 118420,\n",
       " 'page_width': 612.0,\n",
       " 'page_height': 792.0}"
      ]
     },
     "execution_count": 13,
     "metadata": {},
     "output_type": "execute_result"
    }
   ],
   "source": [
    "def get_pdf_info(file_bytes: bytes):\n",
    "    print(\"Getting PDF metadata and info...\")\n",
    "    doc = fitz.open(stream=file_bytes, filetype=\"pdf\")\n",
    "    rect = doc[0].rect if doc else None\n",
    "    info = {\n",
    "        'page_count': len(doc),\n",
    "        'metadata': doc.metadata,\n",
    "        'is_encrypted': doc.is_encrypted,\n",
    "        'size_bytes': len(file_bytes),\n",
    "        'page_width': rect.width if rect else None,\n",
    "        'page_height': rect.height if rect else None,\n",
    "    }\n",
    "    doc.close()\n",
    "    print(f\"PDF Info: {info}\")\n",
    "    return info\n",
    "\n",
    "get_pdf_info(file_bytes)"
   ]
  },
  {
   "cell_type": "code",
   "execution_count": 14,
   "id": "b730a563",
   "metadata": {},
   "outputs": [
    {
     "name": "stdout",
     "output_type": "stream",
     "text": [
      "Extracting image info from PDF...\n",
      "Page 1: Found 0 images\n",
      "Page 2: Found 0 images\n",
      "Total images extracted: 0\n"
     ]
    },
    {
     "data": {
      "text/plain": [
       "[]"
      ]
     },
     "execution_count": 14,
     "metadata": {},
     "output_type": "execute_result"
    }
   ],
   "source": [
    "def extract_images_info(file_bytes: bytes):\n",
    "    print(\"Extracting image info from PDF...\")\n",
    "    doc = fitz.open(stream=file_bytes, filetype=\"pdf\")\n",
    "    images = []\n",
    "    for page_num, page in enumerate(doc):\n",
    "        image_list = page.get_images()\n",
    "        print(f\"Page {page_num + 1}: Found {len(image_list)} images\")\n",
    "        for idx, img in enumerate(image_list):\n",
    "            images.append({\n",
    "                'page': page_num,\n",
    "                'index': idx,\n",
    "                'xref': img[0],\n",
    "                'bbox': page.get_image_bbox(img),\n",
    "                'width': img[2],\n",
    "                'height': img[3]\n",
    "            })\n",
    "    doc.close()\n",
    "    print(f\"Total images extracted: {len(images)}\")\n",
    "    return images\n",
    "\n",
    "extract_images_info(file_bytes)"
   ]
  },
  {
   "cell_type": "code",
   "execution_count": 15,
   "id": "8377d9be",
   "metadata": {},
   "outputs": [
    {
     "name": "stdout",
     "output_type": "stream",
     "text": [
      "Checking if PDF has extractable text...\n",
      "Extracting simple text from PDF...\n",
      "Total characters extracted: 2059\n",
      "Text extractable: True\n"
     ]
    },
    {
     "data": {
      "text/plain": [
       "True"
      ]
     },
     "execution_count": 15,
     "metadata": {},
     "output_type": "execute_result"
    }
   ],
   "source": [
    "def has_extractable_text(file_bytes: bytes) -> bool:\n",
    "    print(\"Checking if PDF has extractable text...\")\n",
    "    result = bool(extract_simple_text(file_bytes).strip())\n",
    "    print(f\"Text extractable: {result}\")\n",
    "    return result\n",
    "has_extractable_text(file_bytes)"
   ]
  },
  {
   "cell_type": "code",
   "execution_count": null,
   "id": "0eaaaa0b",
   "metadata": {},
   "outputs": [],
   "source": []
  }
 ],
 "metadata": {
  "kernelspec": {
   "display_name": "pdftrans",
   "language": "python",
   "name": "python3"
  },
  "language_info": {
   "codemirror_mode": {
    "name": "ipython",
    "version": 3
   },
   "file_extension": ".py",
   "mimetype": "text/x-python",
   "name": "python",
   "nbconvert_exporter": "python",
   "pygments_lexer": "ipython3",
   "version": "3.10.18"
  }
 },
 "nbformat": 4,
 "nbformat_minor": 5
}
