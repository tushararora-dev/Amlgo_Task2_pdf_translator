{
 "cells": [
  {
   "cell_type": "code",
   "execution_count": 1,
   "id": "79546002",
   "metadata": {},
   "outputs": [],
   "source": [
    "import pymupdf as fitz\n",
    "from typing import List, Dict, Tuple\n",
    "\n",
    "DEFAULT_FONT = \"helv\"\n",
    "DEFAULT_FONT_SIZE = 12\n",
    "\n",
    "def create_translated_pdf(original_bytes: bytes, text_blocks: List[Dict], translated_texts: List[str]) -> bytes:\n",
    "    doc = fitz.open(stream=original_bytes, filetype=\"pdf\")\n",
    "    WHITE = fitz.pdfcolor[\"white\"]\n",
    "    ocg = doc.add_ocg(\"Translated\", on=True)\n",
    "\n",
    "    blocks_by_page = {}\n",
    "    for i, block in enumerate(text_blocks):\n",
    "        page_num = block['page']\n",
    "        if page_num not in blocks_by_page:\n",
    "            blocks_by_page[page_num] = []\n",
    "        if i < len(translated_texts):\n",
    "            blocks_by_page[page_num].append((block, translated_texts[i]))\n",
    "\n",
    "    for page_num, page_blocks in blocks_by_page.items():\n",
    "        page = doc[page_num]\n",
    "        for block, translated_text in page_blocks:\n",
    "            if translated_text.strip():\n",
    "                bbox = block['bbox']\n",
    "                page.draw_rect(bbox, color=None, fill=WHITE, oc=ocg)\n",
    "                page.insert_htmlbox(\n",
    "                    bbox,\n",
    "                    translated_text,\n",
    "                    css=\"* {font-family: sans-serif; font-size: 12px;}\",\n",
    "                    oc=ocg\n",
    "                )\n",
    "\n",
    "    doc.subset_fonts()\n",
    "    pdf_bytes = doc.tobytes()\n",
    "    doc.close()\n",
    "    return pdf_bytes"
   ]
  },
  {
   "cell_type": "code",
   "execution_count": 2,
   "id": "f4b6b14e",
   "metadata": {},
   "outputs": [
    {
     "name": "stdout",
     "output_type": "stream",
     "text": [
      "Translated PDF saved as translated_output.pdf\n"
     ]
    }
   ],
   "source": [
    "import pymupdf as fitz\n",
    "\n",
    "# 1. Read original PDF into bytes\n",
    "with open(\"testing.pdf\", \"rb\") as f:\n",
    "    original_bytes = f.read()\n",
    "\n",
    "# 2. Example text_blocks (normally extracted using page.get_text(\"blocks\"))\n",
    "# Each block must have: 'page' (0-based page index) and 'bbox' (x0, y0, x1, y1)\n",
    "text_blocks = [\n",
    "    {\"page\": 0, \"bbox\": (50, 50, 300, 100)},  # First block\n",
    "    {\"page\": 0, \"bbox\": (50, 120, 300, 170)}  # Second block\n",
    "]\n",
    "\n",
    "# 3. Example translated texts\n",
    "translated_texts = [\n",
    "    \"Hello World (Translated)\", \n",
    "    \"This is the second block (Translated)\"\n",
    "]\n",
    "\n",
    "# 4. Call your function\n",
    "new_pdf_bytes = create_translated_pdf(original_bytes, text_blocks, translated_texts)\n",
    "\n",
    "# 5. Save the new translated PDF\n",
    "with open(\"translated_output.pdf\", \"wb\") as f:\n",
    "    f.write(new_pdf_bytes)\n",
    "\n",
    "print(\"Translated PDF saved as translated_output.pdf\")\n"
   ]
  },
  {
   "cell_type": "code",
   "execution_count": 6,
   "id": "ad564a56",
   "metadata": {},
   "outputs": [
    {
     "name": "stdout",
     "output_type": "stream",
     "text": [
      "helv-oblique\n"
     ]
    }
   ],
   "source": [
    "def get_font_name(flags: int) -> str:\n",
    "    if flags & 16:\n",
    "        return \"helv-boldoblique\" if flags & 2 else \"helv-bold\"\n",
    "    elif flags & 2:\n",
    "        return \"helv-oblique\"\n",
    "    return \"helv\"\n",
    "print(get_font_name(2)) "
   ]
  },
  {
   "cell_type": "code",
   "execution_count": 7,
   "id": "bf4cdfac",
   "metadata": {},
   "outputs": [],
   "source": [
    "def get_text_color(color_int: int) -> Tuple[float, float, float]:\n",
    "    if color_int == 0:\n",
    "        return (0, 0, 0)\n",
    "    r = (color_int >> 16) & 255\n",
    "    g = (color_int >> 8) & 255\n",
    "    b = color_int & 255\n",
    "    return (r / 255, g / 255, b / 255)"
   ]
  },
  {
   "cell_type": "code",
   "execution_count": 8,
   "id": "20eeafb4",
   "metadata": {},
   "outputs": [
    {
     "data": {
      "text/plain": [
       "(1.0, 0.0, 0.0)"
      ]
     },
     "execution_count": 8,
     "metadata": {},
     "output_type": "execute_result"
    }
   ],
   "source": [
    "get_text_color(0xFF0000)"
   ]
  },
  {
   "cell_type": "code",
   "execution_count": 9,
   "id": "b7a8ae1b",
   "metadata": {},
   "outputs": [],
   "source": [
    "def add_translated_text_to_page(page, text_blocks: List[Dict], translated_texts: List[str]):\n",
    "    for i, (block, translated_text) in enumerate(zip(text_blocks, translated_texts)):\n",
    "        if not translated_text.strip():\n",
    "            continue\n",
    "        bbox = fitz.Rect(block['bbox'])\n",
    "        font_size = max(8, min(block.get('size', DEFAULT_FONT_SIZE), 24))\n",
    "        font = get_font_name(block.get('flags', 0))\n",
    "        color = get_text_color(block.get('color', 0))\n",
    "        page.insert_text(\n",
    "            (bbox.x0, bbox.y0 + font_size),\n",
    "            translated_text,\n",
    "            fontsize=font_size,\n",
    "            fontname=font,\n",
    "            color=color\n",
    "        )\n"
   ]
  },
  {
   "cell_type": "code",
   "execution_count": 10,
   "id": "21476d03",
   "metadata": {},
   "outputs": [],
   "source": [
    "def wrap_text(text: str, max_width: float) -> List[str]:\n",
    "    words = text.split()\n",
    "    lines = []\n",
    "    current_line = \"\"\n",
    "    char_width = DEFAULT_FONT_SIZE * 0.6\n",
    "    max_chars = int(max_width / char_width)\n",
    "\n",
    "    for word in words:\n",
    "        if len(current_line + \" \" + word) <= max_chars:\n",
    "            current_line = current_line + \" \" + word if current_line else word\n",
    "        else:\n",
    "            if current_line:\n",
    "                lines.append(current_line)\n",
    "            current_line = word\n",
    "    if current_line:\n",
    "        lines.append(current_line)\n",
    "    return lines"
   ]
  },
  {
   "cell_type": "code",
   "execution_count": 11,
   "id": "b9a9a82a",
   "metadata": {},
   "outputs": [],
   "source": [
    "def create_simple_translated_pdf(translated_text: str, original_bytes: bytes = None) -> bytes:\n",
    "    doc = fitz.open()\n",
    "    if original_bytes:\n",
    "        orig_doc = fitz.open(stream=original_bytes, filetype=\"pdf\")\n",
    "        if len(orig_doc) > 0:\n",
    "            page_width = orig_doc[0].rect.width\n",
    "            page_height = orig_doc[0].rect.height\n",
    "        else:\n",
    "            page_width, page_height = fitz.paper_size(\"a4\")\n",
    "        orig_doc.close()\n",
    "    else:\n",
    "        page_width, page_height = fitz.paper_size(\"a4\")\n",
    "\n",
    "    page = doc.new_page(width=page_width, height=page_height)\n",
    "    margin = 50\n",
    "    line_height = 16\n",
    "    y_position = margin\n",
    "\n",
    "    lines = translated_text.split('\\n')\n",
    "    for line in lines:\n",
    "        if y_position > page_height - margin:\n",
    "            page = doc.new_page(width=page_width, height=page_height)\n",
    "            y_position = margin\n",
    "        if line.strip():\n",
    "            wrapped_lines = wrap_text(line, page_width - 2 * margin)\n",
    "            for wrapped_line in wrapped_lines:\n",
    "                page.insert_text((margin, y_position), wrapped_line, fontsize=DEFAULT_FONT_SIZE)\n",
    "                y_position += line_height\n",
    "        else:\n",
    "            y_position += line_height\n",
    "\n",
    "    pdf_bytes = doc.tobytes()\n",
    "    doc.close()\n",
    "    return pdf_bytes\n"
   ]
  },
  {
   "cell_type": "code",
   "execution_count": null,
   "id": "a5af93c6",
   "metadata": {},
   "outputs": [],
   "source": []
  }
 ],
 "metadata": {
  "kernelspec": {
   "display_name": "pdftrans",
   "language": "python",
   "name": "python3"
  },
  "language_info": {
   "codemirror_mode": {
    "name": "ipython",
    "version": 3
   },
   "file_extension": ".py",
   "mimetype": "text/x-python",
   "name": "python",
   "nbconvert_exporter": "python",
   "pygments_lexer": "ipython3",
   "version": "3.10.18"
  }
 },
 "nbformat": 4,
 "nbformat_minor": 5
}
