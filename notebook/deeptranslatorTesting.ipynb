{
 "cells": [
  {
   "cell_type": "code",
   "execution_count": 3,
   "id": "3334dd19",
   "metadata": {},
   "outputs": [],
   "source": [
    "import pymupdf\n",
    "from deep_translator import GoogleTranslator"
   ]
  },
  {
   "cell_type": "code",
   "execution_count": null,
   "id": "c099f663",
   "metadata": {},
   "outputs": [],
   "source": [
    "WHITE = pymupdf.pdfcolor[\"white\"]\n",
    "\n",
    "textflags = pymupdf.TEXT_DEHYPHENATE\n",
    "\n",
    "to_hindi = GoogleTranslator(source=\"en\", target=\"hi\")\n",
    "doc = pymupdf.open('Testing.pdf')\n",
    "\n",
    "ocg = doc.add_ocg(\"Hindi\",on=True)\n",
    "\n",
    "for page in doc:\n",
    "    blocks = page.get_text(\"blocks\",flags=textflags)\n",
    "    for block in blocks:\n",
    "        bbox = block[:4]\n",
    "        text = block[4]\n",
    "        hindit = to_hindi.translate(text)\n",
    "        page.draw_rect(bbox,color=None,fill=WHITE,oc=ocg)\n",
    "        # insert_textbox()\n",
    "        page.insert_htmlbox(\n",
    "            bbox, hindit, css=\"* {font-family: sans-serif;}\", oc=ocg\n",
    "        )\n",
    "\n",
    "doc.subset_fonts()\n",
    "doc.ez_save('translated-hindi-fatch.pdf')"
   ]
  },
  {
   "cell_type": "code",
   "execution_count": null,
   "id": "49e0a9e5",
   "metadata": {},
   "outputs": [],
   "source": []
  }
 ],
 "metadata": {
  "kernelspec": {
   "display_name": "pdftrans",
   "language": "python",
   "name": "python3"
  },
  "language_info": {
   "codemirror_mode": {
    "name": "ipython",
    "version": 3
   },
   "file_extension": ".py",
   "mimetype": "text/x-python",
   "name": "python",
   "nbconvert_exporter": "python",
   "pygments_lexer": "ipython3",
   "version": "3.10.18"
  }
 },
 "nbformat": 4,
 "nbformat_minor": 5
}
