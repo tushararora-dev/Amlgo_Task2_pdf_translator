{
 "cells": [
  {
   "cell_type": "code",
   "execution_count": 2,
   "id": "dd63679a",
   "metadata": {},
   "outputs": [],
   "source": [
    "from deep_translator import GoogleTranslator\n",
    "translator_cache = {}\n",
    "def get_translator(source: str, target: str) -> GoogleTranslator:\n",
    "    key = f\"{source}_{target}\"\n",
    "    if key not in translator_cache:\n",
    "        translator_cache[key] = GoogleTranslator(source=source, target=target)\n",
    "    return translator_cache[key]"
   ]
  },
  {
   "cell_type": "code",
   "execution_count": null,
   "id": "5d5e99bf",
   "metadata": {},
   "outputs": [],
   "source": [
    "t1 = get_translator('en', 'hi')  # New translator created and cached\n",
    "t3 = get_translator('hi', 'en')  # New translator created for reverse"
   ]
  },
  {
   "cell_type": "code",
   "execution_count": 6,
   "id": "ae1c2c1c",
   "metadata": {},
   "outputs": [
    {
     "data": {
      "text/plain": [
       "<deep_translator.google.GoogleTranslator at 0x254e68b8550>"
      ]
     },
     "execution_count": 6,
     "metadata": {},
     "output_type": "execute_result"
    }
   ],
   "source": [
    "t1"
   ]
  },
  {
   "cell_type": "code",
   "execution_count": 7,
   "id": "49827486",
   "metadata": {},
   "outputs": [
    {
     "data": {
      "text/plain": [
       "<deep_translator.google.GoogleTranslator at 0x254e7f3f640>"
      ]
     },
     "execution_count": 7,
     "metadata": {},
     "output_type": "execute_result"
    }
   ],
   "source": [
    "GoogleTranslator(source='en', target='hi')"
   ]
  },
  {
   "cell_type": "code",
   "execution_count": 10,
   "id": "cc1dcf94",
   "metadata": {},
   "outputs": [],
   "source": [
    "import re\n",
    "from typing import List, Tuple\n",
    "\n",
    "# Common abbreviations and patterns to skip\n",
    "ABBREVIATIONS = {'AI', 'ML', 'API', 'URL', 'PDF', 'HTML', 'CSS', 'JS', 'SQL', 'JSON', 'HTTP', 'HTTPS',\n",
    "                 'NASA', 'FBI', 'CEO', 'CTO', 'PhD', 'MBA', 'USA', 'UK', 'UAE', 'CPU', 'GPU'}\n",
    "\n",
    "def should_skip_translation(text: str) -> bool:\n",
    "    text = text.strip()\n",
    "    if len(text) < 2:\n",
    "        return True\n",
    "    if text.upper() in ABBREVIATIONS:\n",
    "        return True\n",
    "    if re.fullmatch(r'^[\\d\\W_]+$', text):  # numbers, symbols, punctuation\n",
    "        return True\n",
    "    if re.search(r'(http|www\\.|@|\\.com|\\.pdf|\\.png)', text.lower()):\n",
    "        return True\n",
    "    if re.fullmatch(r'[A-Z0-9_\\-\\.]+', text):  # like FILE_NAME_123.PDF\n",
    "        return True\n",
    "    if re.fullmatch(r'v?\\d+(\\.\\d+)*([a-zA-Z]+\\d*)?', text):  # versions like 1.0.2a\n",
    "        return True\n",
    "    return False\n",
    "\n",
    "def preprocess_text(text: str) -> List[Tuple[str, bool]]:\n",
    "    words = re.findall(r'\\S+|\\s+', text)\n",
    "    segments = []\n",
    "    current = \"\"\n",
    "    current_flag = None\n",
    "\n",
    "    for token in words:\n",
    "        if token.isspace():\n",
    "            current += token\n",
    "            continue\n",
    "\n",
    "        flag = not should_skip_translation(token)\n",
    "\n",
    "        if current_flag is None or flag == current_flag:\n",
    "            current += token\n",
    "        else:\n",
    "            if current.strip():\n",
    "                segments.append((current, current_flag))\n",
    "            current = token\n",
    "        current_flag = flag\n",
    "\n",
    "    if current.strip():\n",
    "        segments.append((current, current_flag))\n",
    "    return segments\n",
    "\n",
    "def postprocess_translated_text(original: str, translated: str) -> str:\n",
    "    leading_spaces = len(original) - len(original.lstrip())\n",
    "    trailing_spaces = len(original) - len(original.rstrip())\n",
    "    return ' ' * leading_spaces + translated.strip() + ' ' * trailing_spaces\n",
    "\n"
   ]
  },
  {
   "cell_type": "code",
   "execution_count": null,
   "id": "df3ae305",
   "metadata": {},
   "outputs": [],
   "source": [
    "def translate_text_segment(text: str, source: str, target: str) -> str:\n",
    "    if not text.strip():\n",
    "        return text\n",
    "\n",
    "    translator = get_translator(source, target)\n",
    "    for _ in range(3):\n",
    "        try:\n",
    "            translated = translator.translate(text.strip())\n",
    "            if translated:\n",
    "                return postprocess_translated_text(text, translated)\n",
    "        except Exception:\n",
    "            time.sleep(1)\n",
    "    return text  # fallback if translation fails\n",
    "\n",
    "\n",
    "def translate_text(text: str, source: str, target: str) -> str:\n",
    "    if not text.strip() or source == target:\n",
    "        return text\n",
    "\n",
    "    return ''.join(\n",
    "        translate_text_segment(seg, source, target) if do_translate else seg\n",
    "        for seg, do_translate in preprocess_text(text)\n",
    "    )\n",
    " "
   ]
  },
  {
   "cell_type": "code",
   "execution_count": 14,
   "id": "e0b0667a",
   "metadata": {},
   "outputs": [
    {
     "name": "stdout",
     "output_type": "stream",
     "text": [
      "Original: Amalgo Labs uses AI and ML.\n",
      "Translated: अमलगो लैब्स का उपयोग करता है AI और ML.\n"
     ]
    }
   ],
   "source": [
    "\n",
    "source_lang = 'en'\n",
    "target_lang = 'hi'\n",
    "sample_text = \"Amalgo Labs uses AI and ML.\"\n",
    "\n",
    "translated = translate_text(sample_text, source_lang, target_lang)\n",
    "print(\"Original:\", sample_text)\n",
    "print(\"Translated:\", translated)"
   ]
  },
  {
   "cell_type": "code",
   "execution_count": 15,
   "id": "3f77f4cd",
   "metadata": {},
   "outputs": [
    {
     "data": {
      "text/plain": [
       "['हैलो वर्ल्ड!', 'AI अद्भुत है।', 'मिलने जाना www.google.com']"
      ]
     },
     "execution_count": 15,
     "metadata": {},
     "output_type": "execute_result"
    }
   ],
   "source": [
    "import time\n",
    "def translate_text_blocks(text_blocks: List[str], source: str, target: str, callback=None) -> List[str]:\n",
    "    if not text_blocks:\n",
    "        return []\n",
    "    translated = []\n",
    "    total = len(text_blocks)\n",
    "    for i, block in enumerate(text_blocks):\n",
    "        if callback:\n",
    "            callback((i + 1) / total, f\"Translating block {i + 1} of {total}\")\n",
    "        translated.append(translate_text(block, source, target))\n",
    "        if i < total - 1:\n",
    "            time.sleep(0.1)\n",
    "    return translated\n",
    "\n",
    "blocks = [\"Hello world!\", \"AI is amazing.\", \"Visit www.google.com\"]\n",
    "translate_text_blocks(blocks, source=\"en\", target=\"hi\")\n"
   ]
  },
  {
   "cell_type": "code",
   "execution_count": null,
   "id": "8dc3469f",
   "metadata": {},
   "outputs": [],
   "source": [
    "from typing import Optional\n",
    "def detect_language(text: str) -> Optional[str]:\n",
    "    sample = text[:500].strip()\n",
    "    if not sample:\n",
    "        return None\n",
    "    hindi_chars = sum(1 for char in sample if '\\u0900' <= char <= '\\u097F') #count character in devnagric\n",
    "    latin_chars = sum(1 for char in sample if char.isalpha() and char.isascii())\n",
    "    if hindi_chars > latin_chars:\n",
    "        return 'hi'\n",
    "    elif latin_chars > 0:\n",
    "        return 'en'\n",
    "    return None"
   ]
  },
  {
   "cell_type": "code",
   "execution_count": 19,
   "id": "ac58582c",
   "metadata": {},
   "outputs": [
    {
     "data": {
      "text/plain": [
       "'hi'"
      ]
     },
     "execution_count": 19,
     "metadata": {},
     "output_type": "execute_result"
    }
   ],
   "source": [
    "detect_language(\"यह एक परीक्षण वाक्य है।\")"
   ]
  },
  {
   "cell_type": "code",
   "execution_count": 20,
   "id": "e7a11418",
   "metadata": {},
   "outputs": [
    {
     "data": {
      "text/plain": [
       "'en'"
      ]
     },
     "execution_count": 20,
     "metadata": {},
     "output_type": "execute_result"
    }
   ],
   "source": [
    "detect_language(\"This is a test sentence.\")"
   ]
  },
  {
   "cell_type": "code",
   "execution_count": null,
   "id": "f625348d",
   "metadata": {},
   "outputs": [],
   "source": []
  },
  {
   "cell_type": "code",
   "execution_count": null,
   "id": "38fef201",
   "metadata": {},
   "outputs": [],
   "source": []
  }
 ],
 "metadata": {
  "kernelspec": {
   "display_name": "pdftrans",
   "language": "python",
   "name": "python3"
  },
  "language_info": {
   "codemirror_mode": {
    "name": "ipython",
    "version": 3
   },
   "file_extension": ".py",
   "mimetype": "text/x-python",
   "name": "python",
   "nbconvert_exporter": "python",
   "pygments_lexer": "ipython3",
   "version": "3.10.18"
  }
 },
 "nbformat": 4,
 "nbformat_minor": 5
}
