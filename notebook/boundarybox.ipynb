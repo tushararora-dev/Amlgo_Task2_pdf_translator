{
 "cells": [
  {
   "cell_type": "code",
   "execution_count": 1,
   "id": "d18f63b4",
   "metadata": {},
   "outputs": [],
   "source": [
    "import pymupdf\n",
    "from deep_translator import GoogleTranslator\n",
    "\n",
    "WHITE = pymupdf.pdfcolor[\"white\"]\n",
    "textflags = pymupdf.TEXT_DEHYPHENATE\n",
    "to_hindi = GoogleTranslator(source=\"en\", target=\"hi\")\n",
    "\n",
    "doc = pymupdf.open('Testing.pdf')\n",
    "ocg = doc.add_ocg(\"Hindi\", on=True)\n",
    "\n",
    "for page in doc:\n",
    "    blocks = page.get_text(\"blocks\", flags=textflags)\n",
    "    for block in blocks:\n",
    "        bbox = block[:4]\n",
    "        text = block[4]\n",
    "        if not text.strip():\n",
    "            continue  # skip empty text\n",
    "        hindit = to_hindi.translate(text)\n",
    "\n",
    "        # Draw visible boundary in red\n",
    "        page.draw_rect(\n",
    "            bbox,\n",
    "            color=(1, 0, 0),  # Red border\n",
    "            width=0.5,\n",
    "            fill=None,\n",
    "            oc=ocg\n",
    "        )\n",
    "\n",
    "        # Optional: fill background (not required if you just want border)\n",
    "        # page.draw_rect(bbox, fill=WHITE, color=None, oc=ocg)\n",
    "\n",
    "        # Write translated text\n",
    "        page.insert_htmlbox(\n",
    "            bbox,\n",
    "            hindit,\n",
    "            css=\"* { font-family: sans-serif; font-size: 10pt; }\",\n",
    "            oc=ocg\n",
    "        )\n",
    "\n",
    "doc.subset_fonts()\n",
    "doc.ez_save('translated-hindi-visible-blocks.pdf')\n"
   ]
  },
  {
   "cell_type": "code",
   "execution_count": null,
   "id": "46c663e5",
   "metadata": {},
   "outputs": [],
   "source": []
  }
 ],
 "metadata": {
  "kernelspec": {
   "display_name": "pdftrans",
   "language": "python",
   "name": "python3"
  },
  "language_info": {
   "codemirror_mode": {
    "name": "ipython",
    "version": 3
   },
   "file_extension": ".py",
   "mimetype": "text/x-python",
   "name": "python",
   "nbconvert_exporter": "python",
   "pygments_lexer": "ipython3",
   "version": "3.10.18"
  }
 },
 "nbformat": 4,
 "nbformat_minor": 5
}
