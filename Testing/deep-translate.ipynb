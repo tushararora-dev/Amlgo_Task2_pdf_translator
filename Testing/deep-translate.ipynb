{
 "cells": [
  {
   "cell_type": "code",
   "execution_count": 5,
   "id": "48086236",
   "metadata": {},
   "outputs": [
    {
     "name": "stdout",
     "output_type": "stream",
     "text": [
      "Hindi Translation: यह उपयोगकर्ता मैनुअल आपको एप्लिकेशन की स्थापना और सेटअप के माध्यम से मार्गदर्शन करेगा।\n"
     ]
    }
   ],
   "source": [
    "from deep_translator import GoogleTranslator\n",
    "\n",
    "def translate_en_to_hi(text):\n",
    "    return GoogleTranslator(source='en', target='hi').translate(text)\n",
    "\n",
    "# Test it\n",
    "text = \"This user manual will guide you through the installation and setup of the application.\"\n",
    "translated_text = translate_en_to_hi(text)\n",
    "print(\"Hindi Translation:\", translated_text)\n"
   ]
  },
  {
   "cell_type": "code",
   "execution_count": 6,
   "id": "6929362a",
   "metadata": {},
   "outputs": [
    {
     "name": "stdout",
     "output_type": "stream",
     "text": [
      "Hindi Translation: नमूना आवेदन में आपका स्वागत है! यह उपयोगकर्ता मैनुअल आपको एप्लिकेशन के इंस्टॉलेशन, सेटअप और उपयोग के माध्यम से मार्गदर्शन करेगा। जल्दी और प्रभावी ढंग से शुरू करने के लिए नीचे दिए गए चरणों का पालन करें।\n"
     ]
    }
   ],
   "source": [
    "text = \"Welcome to the Sample Application! This user manual will guide you through the installation, setup, and usage of the application. Follow the steps below to get started quickly and effectively.\"\n",
    "translated_text = translate_en_to_hi(text)\n",
    "print(\"Hindi Translation:\", translated_text)"
   ]
  },
  {
   "cell_type": "code",
   "execution_count": 7,
   "id": "6b33b4a4",
   "metadata": {},
   "outputs": [
    {
     "name": "stdout",
     "output_type": "stream",
     "text": [
      "Hindi Translation: कदम\n"
     ]
    }
   ],
   "source": [
    "text = \"step\"\n",
    "translated_text = translate_en_to_hi(text)\n",
    "print(\"Hindi Translation:\", translated_text)"
   ]
  },
  {
   "cell_type": "code",
   "execution_count": 12,
   "id": "cbc008b5",
   "metadata": {},
   "outputs": [
    {
     "name": "stdout",
     "output_type": "stream",
     "text": [
      "Hindi Translation: यह उपयोगकर्ता मैनुअल एप्लिकेशन के इंस्टॉलेशन और सेटअप के माध्यम से आपका मार्गदर्शन करेगा।\n"
     ]
    }
   ],
   "source": [
    "from deep_translator import MyMemoryTranslator\n",
    "\n",
    "def translate_en_to_hi(text):\n",
    "    try:\n",
    "        return MyMemoryTranslator(source='en-IN', target='hi-IN').translate(text)\n",
    "    except Exception as e:\n",
    "        print(\"Translation error:\", e)\n",
    "        return None\n",
    "\n",
    "# Test it\n",
    "text = \"This user manual will guide you through the installation and setup of the application.\"\n",
    "translated = translate_en_to_hi(text)\n",
    "print(\"Hindi Translation:\", translated)\n"
   ]
  },
  {
   "cell_type": "code",
   "execution_count": 13,
   "id": "f072ae59",
   "metadata": {},
   "outputs": [
    {
     "name": "stdout",
     "output_type": "stream",
     "text": [
      "Hindi Translation: सैंपल ऐप्लिकेशन में आपका स्वागत है! यह उपयोगकर्ता मैनुअल आपको एप्लिकेशन के इंस्टॉलेशन, सेटअप और उपयोग के बारे में मार्गदर्शन करेगा। जल्दी और प्रभावी ढंग से शुरू करने के लिए नीचे दिए गए चरणों का पालन करें।\n"
     ]
    }
   ],
   "source": [
    "# Test it\n",
    "text = \"Welcome to the Sample Application! This user manual will guide you through the installation, setup, and usage of the application. Follow the steps below to get started quickly and effectively.\"\n",
    "translated = translate_en_to_hi(text)\n",
    "print(\"Hindi Translation:\", translated)"
   ]
  },
  {
   "cell_type": "code",
   "execution_count": 14,
   "id": "686dd36a",
   "metadata": {},
   "outputs": [
    {
     "name": "stdout",
     "output_type": "stream",
     "text": [
      "Hindi Translation: STEP \n"
     ]
    }
   ],
   "source": [
    "text = \"step\"\n",
    "translated = translate_en_to_hi(text)\n",
    "print(\"Hindi Translation:\", translated)"
   ]
  },
  {
   "cell_type": "code",
   "execution_count": 9,
   "id": "4ccb98bd",
   "metadata": {},
   "outputs": [
    {
     "name": "stdout",
     "output_type": "stream",
     "text": [
      "🔁 Translated Hindi: सैंपल ऐप्लिकेशन में आपका स्वागत है! यह उपयोगकर्ता मैनुअल आपको एप्लिकेशन के इंस्टॉलेशन, सेटअप और उपयोग के बारे में मार्गदर्शन करेगा।\n",
      "❌ API Error: 404 Not Found\n",
      "\n",
      "✨ Modern Hindi: None\n"
     ]
    }
   ],
   "source": [
    "import requests\n",
    "from deep_translator import MyMemoryTranslator\n",
    "from dotenv import load_dotenv\n",
    "import os\n",
    "\n",
    "load_dotenv()\n",
    "HF_API_TOKEN = os.getenv(\"HF_API_TOKEN\")\n",
    "\n",
    "# Step 1: Translate English to Hindi\n",
    "def translate_en_to_hi(text):\n",
    "    try:\n",
    "        return MyMemoryTranslator(source='en-IN', target='hi-IN').translate(text)\n",
    "    except Exception as e:\n",
    "        print(\"Translation error:\", e)\n",
    "        return None\n",
    "\n",
    "def modernize_hindi_via_api(hindi_text, hf_api_token, model_id=\"tiiuae/falcon-7b-instruct\"):\n",
    "    endpoint = f\"https://api-inference.huggingface.co/models/{model_id}\"\n",
    "    headers = {\n",
    "        \"Authorization\": f\"Bearer {hf_api_token}\",\n",
    "        \"Content-Type\": \"application/json\"\n",
    "    }\n",
    "\n",
    "    prompt = f\"### Instruction:\\nइस वाक्य को आधुनिक हिंदी में सरल भाषा में दोबारा लिखिए:\\n\\n{hindi_text}\\n\\n### Response:\"\n",
    "\n",
    "    payload = {\n",
    "        \"inputs\": prompt,\n",
    "        \"parameters\": {\n",
    "            \"max_new_tokens\": 150,\n",
    "            \"temperature\": 0.7,\n",
    "            \"return_full_text\": False\n",
    "        }\n",
    "    }\n",
    "\n",
    "    response = requests.post(endpoint, headers=headers, json=payload)\n",
    "    if response.status_code == 200:\n",
    "        return response.json()[0]['generated_text'].strip()\n",
    "    else:\n",
    "        print(\"❌ API Error:\", response.status_code, response.text)\n",
    "        return None\n",
    "# Combined Function\n",
    "def translate_and_modernize(text, hf_api_token):\n",
    "    hindi = translate_en_to_hi(text)\n",
    "    if hindi:\n",
    "        print(\"🔁 Translated Hindi:\", hindi)\n",
    "        modern_hindi = modernize_hindi_via_api(hindi, hf_api_token)\n",
    "        return modern_hindi\n",
    "    else:\n",
    "        return \"Translation failed.\"\n",
    "\n",
    "# Test\n",
    "if __name__ == \"__main__\":\n",
    "    input_text = \"Welcome to the Sample Application! This user manual will guide you through the installation, setup, and usage of the application.\"\n",
    "    modern_hindi = translate_and_modernize(input_text, HF_API_TOKEN)\n",
    "    print(\"\\n✨ Modern Hindi:\", modern_hindi)\n"
   ]
  },
  {
   "cell_type": "code",
   "execution_count": null,
   "id": "b3d59ead",
   "metadata": {},
   "outputs": [],
   "source": []
  }
 ],
 "metadata": {
  "kernelspec": {
   "display_name": "pdftrans",
   "language": "python",
   "name": "python3"
  },
  "language_info": {
   "codemirror_mode": {
    "name": "ipython",
    "version": 3
   },
   "file_extension": ".py",
   "mimetype": "text/x-python",
   "name": "python",
   "nbconvert_exporter": "python",
   "pygments_lexer": "ipython3",
   "version": "3.10.18"
  }
 },
 "nbformat": 4,
 "nbformat_minor": 5
}
