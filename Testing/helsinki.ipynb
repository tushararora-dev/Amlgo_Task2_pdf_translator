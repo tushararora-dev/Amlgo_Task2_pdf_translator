{
 "cells": [
  {
   "cell_type": "code",
   "execution_count": 4,
   "id": "92b0da27",
   "metadata": {},
   "outputs": [
    {
     "name": "stdout",
     "output_type": "stream",
     "text": [
      "Hindi Translation: यह उपयोक्ता मैनुअल आपको अनुप्रयोग के संस्थापना तथा सेटअप के द्वारा मार्गदर्शित करेगा.\n"
     ]
    }
   ],
   "source": [
    "import requests\n",
    "import os\n",
    "from dotenv import load_dotenv\n",
    "\n",
    "# Load the .env file\n",
    "load_dotenv()\n",
    "\n",
    "# Get the token from environment\n",
    "HF_API_TOKEN = os.getenv(\"HF_API_TOKEN\")\n",
    "\n",
    "# API endpoint\n",
    "API_URL = \"https://api-inference.huggingface.co/models/Helsinki-NLP/opus-mt-en-hi\"\n",
    "headers = {\n",
    "    \"Authorization\": f\"Bearer {HF_API_TOKEN}\"\n",
    "}\n",
    "\n",
    "def translate_en_to_hi(text):\n",
    "    payload = {\"inputs\": text}\n",
    "    response = requests.post(API_URL, headers=headers, json=payload)\n",
    "\n",
    "    if response.status_code == 200:\n",
    "        return response.json()[0]['translation_text']\n",
    "    else:\n",
    "        print(\"Error:\", response.status_code, response.text)\n",
    "        return None\n",
    "\n",
    "# Test it\n",
    "text = \"This user manual will guide you through the installation and setup of the application.\"\n",
    "translated_text = translate_en_to_hi(text)\n",
    "print(\"Hindi Translation:\", translated_text)\n"
   ]
  },
  {
   "cell_type": "code",
   "execution_count": 6,
   "id": "d9c89bcf",
   "metadata": {},
   "outputs": [
    {
     "name": "stdout",
     "output_type": "stream",
     "text": [
      "Error: 401 {\"error\":\"Invalid credentials in Authorization header\"}\n",
      "Hindi Translation: None\n"
     ]
    }
   ],
   "source": [
    "# Test it\n",
    "text = \"Welcome to the Sample Application! This user manual will guide you through the installation, setup, and usage of the application. Follow the steps below to get started quickly and effectively.\"\n",
    "translated_text = translate_en_to_hi(text)\n",
    "print(\"Hindi Translation:\", translated_text)"
   ]
  },
  {
   "cell_type": "code",
   "execution_count": 7,
   "id": "72fd141a",
   "metadata": {},
   "outputs": [
    {
     "name": "stdout",
     "output_type": "stream",
     "text": [
      "Error: 401 {\"error\":\"Invalid credentials in Authorization header\"}\n",
      "Hindi Translation: None\n"
     ]
    }
   ],
   "source": [
    "# Test it\n",
    "text = \"step\"\n",
    "translated_text = translate_en_to_hi(text)\n",
    "print(\"Hindi Translation:\", translated_text)"
   ]
  },
  {
   "cell_type": "code",
   "execution_count": 8,
   "id": "8a9c495c",
   "metadata": {},
   "outputs": [],
   "source": [
    "def convert_to_modern_hindi_with_groq(hindi_text):\n",
    "    url = \"https://api.groq.com/openai/v1/chat/completions\"\n",
    "    headers = {\n",
    "        \"Authorization\": f\"Bearer {os.getenv('GROQ_API_KEY')}\",\n",
    "        \"Content-Type\": \"application/json\"\n",
    "    }\n",
    "\n",
    "    prompt = f\"\"\"\n",
    "आपका काम पारंपरिक या क्लिष्ट हिंदी वाक्य को आधुनिक, सरल और बोलचाल की हिंदी में बदलना है।\n",
    "\n",
    "**Examples:**\n",
    "1. \"यह उपयोगकर्ता पुस्तिका आपको इंस्टॉलेशन और सेटअप में मार्गदर्शन करेगी।\"\n",
    "   → \"यह गाइड आपको ऐप को इंस्टॉल और सेटअप करने में मदद करेगी।\"\n",
    "\n",
    "2. \"इस दस्तावेज़ का उद्देश्य आपको प्रक्रिया को समझाना है।\"\n",
    "   → \"इस डाक्यूमेंट को पढ़कर आप आसानी से प्रोसेस समझ पाएंगे।\"\n",
    "\n",
    "अब इस वाक्य को आधुनिक हिंदी में बदलें:\n",
    "\"{hindi_text}\"\n",
    "\n",
    "केवल बदला हुआ वाक्य दें, कोई स्पष्टीकरण नहीं।\n",
    "\"\"\"\n",
    "\n",
    "    payload = {\n",
    "        \"model\": \"llama3-8b-8192\",\n",
    "        \"messages\": [\n",
    "            {\"role\": \"system\", \"content\": \"You are a Hindi language expert that converts complex or textbook Hindi into modern, spoken Hindi.\"},\n",
    "            {\"role\": \"user\", \"content\": prompt}\n",
    "        ],\n",
    "        \"temperature\": 0.7,\n",
    "        \"max_tokens\": 150\n",
    "    }\n",
    "\n",
    "    response = requests.post(url, headers=headers, json=payload)\n",
    "\n",
    "    if response.status_code == 200:\n",
    "        result = response.json()\n",
    "        return result['choices'][0]['message']['content'].strip()\n",
    "    else:\n",
    "        print(\"Groq API Error:\", response.status_code, response.text)\n",
    "        return None\n"
   ]
  },
  {
   "cell_type": "code",
   "execution_count": 9,
   "id": "c4f0d6e7",
   "metadata": {},
   "outputs": [
    {
     "name": "stdout",
     "output_type": "stream",
     "text": [
      "Error: 401 {\"error\":\"Invalid credentials in Authorization header\"}\n",
      "Groq API Error: 401 {\"error\":{\"message\":\"Invalid API Key\",\"type\":\"invalid_request_error\",\"code\":\"invalid_api_key\"}}\n",
      "\n",
      "Standard Hindi: None\n",
      "Modern Hindi: None\n"
     ]
    }
   ],
   "source": [
    "# Step 1: English to Hindi\n",
    "english_text = \"Welcome to the Sample Application! This user manual will guide you through the installation, setup, and usage of the application. Follow the steps below to get started quickly and effectively.\"\n",
    "hindi_translated = translate_en_to_hi(english_text)\n",
    "\n",
    "# Step 2: Convert Hindi to Modern Hindi via Groq\n",
    "modern_hindi = convert_to_modern_hindi_with_groq(hindi_translated)\n",
    "\n",
    "print(\"Standard Hindi:\", hindi_translated)\n",
    "print(\"Modern Hindi:\", modern_hindi)\n"
   ]
  },
  {
   "cell_type": "code",
   "execution_count": null,
   "id": "4084807d",
   "metadata": {},
   "outputs": [],
   "source": []
  }
 ],
 "metadata": {
  "kernelspec": {
   "display_name": "pdftrans",
   "language": "python",
   "name": "python3"
  },
  "language_info": {
   "codemirror_mode": {
    "name": "ipython",
    "version": 3
   },
   "file_extension": ".py",
   "mimetype": "text/x-python",
   "name": "python",
   "nbconvert_exporter": "python",
   "pygments_lexer": "ipython3",
   "version": "3.10.18"
  }
 },
 "nbformat": 4,
 "nbformat_minor": 5
}
