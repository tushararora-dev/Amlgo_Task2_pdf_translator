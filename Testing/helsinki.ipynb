{
 "cells": [
  {
   "cell_type": "code",
   "execution_count": 2,
   "id": "92b0da27",
   "metadata": {},
   "outputs": [
    {
     "name": "stdout",
     "output_type": "stream",
     "text": [
      "Hindi Translation: यह उपयोक्ता मैनुअल आपको अनुप्रयोग के संस्थापना तथा सेटअप के द्वारा मार्गदर्शित करेगा.\n"
     ]
    }
   ],
   "source": [
    "import requests\n",
    "import os\n",
    "from dotenv import load_dotenv\n",
    "\n",
    "# Load the .env file\n",
    "load_dotenv()\n",
    "\n",
    "# Get the token from environment\n",
    "HF_API_TOKEN = os.getenv(\"HF_API_TOKEN\")\n",
    "\n",
    "# API endpoint\n",
    "API_URL = \"https://api-inference.huggingface.co/models/Helsinki-NLP/opus-mt-en-hi\"\n",
    "headers = {\n",
    "    \"Authorization\": f\"Bearer {HF_API_TOKEN}\"\n",
    "}\n",
    "\n",
    "def translate_en_to_hi(text):\n",
    "    payload = {\"inputs\": text}\n",
    "    response = requests.post(API_URL, headers=headers, json=payload)\n",
    "\n",
    "    if response.status_code == 200:\n",
    "        return response.json()[0]['translation_text']\n",
    "    else:\n",
    "        print(\"Error:\", response.status_code, response.text)\n",
    "        return None\n",
    "\n",
    "# Test it\n",
    "text = \"This user manual will guide you through the installation and setup of the application.\"\n",
    "translated_text = translate_en_to_hi(text)\n",
    "print(\"Hindi Translation:\", translated_text)\n"
   ]
  },
  {
   "cell_type": "code",
   "execution_count": 3,
   "id": "d9c89bcf",
   "metadata": {},
   "outputs": [
    {
     "name": "stdout",
     "output_type": "stream",
     "text": [
      "Hindi Translation: सेंपल अनुप्रयोग में आपका स्वागत है! यह उपयोक्ता मैनुअल आपको संस्थापना, सेटअप तथा अनुप्रयोग के उपयोग से मार्ग दिखाएगा. नीचे दिए कदमों को जल्दी से शुरू करने के लिए अनुसरण करें.\n"
     ]
    }
   ],
   "source": [
    "# Test it\n",
    "text = \"Welcome to the Sample Application! This user manual will guide you through the installation, setup, and usage of the application. Follow the steps below to get started quickly and effectively.\"\n",
    "translated_text = translate_en_to_hi(text)\n",
    "print(\"Hindi Translation:\", translated_text)"
   ]
  },
  {
   "cell_type": "code",
   "execution_count": 4,
   "id": "72fd141a",
   "metadata": {},
   "outputs": [
    {
     "name": "stdout",
     "output_type": "stream",
     "text": [
      "Hindi Translation: कदम\n"
     ]
    }
   ],
   "source": [
    "# Test it\n",
    "text = \"step\"\n",
    "translated_text = translate_en_to_hi(text)\n",
    "print(\"Hindi Translation:\", translated_text)"
   ]
  },
  {
   "cell_type": "code",
   "execution_count": null,
   "id": "8a9c495c",
   "metadata": {},
   "outputs": [],
   "source": []
  }
 ],
 "metadata": {
  "kernelspec": {
   "display_name": "pdftrans",
   "language": "python",
   "name": "python3"
  },
  "language_info": {
   "codemirror_mode": {
    "name": "ipython",
    "version": 3
   },
   "file_extension": ".py",
   "mimetype": "text/x-python",
   "name": "python",
   "nbconvert_exporter": "python",
   "pygments_lexer": "ipython3",
   "version": "3.10.18"
  }
 },
 "nbformat": 4,
 "nbformat_minor": 5
}
