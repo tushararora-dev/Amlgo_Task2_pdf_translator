{
 "cells": [
  {
   "cell_type": "code",
   "execution_count": 2,
   "id": "63dd9490",
   "metadata": {},
   "outputs": [
    {
     "name": "stderr",
     "output_type": "stream",
     "text": [
      "c:\\Users\\Danjin\\miniconda3\\envs\\pdftrans\\lib\\site-packages\\tqdm\\auto.py:21: TqdmWarning: IProgress not found. Please update jupyter and ipywidgets. See https://ipywidgets.readthedocs.io/en/stable/user_install.html\n",
      "  from .autonotebook import tqdm as notebook_tqdm\n"
     ]
    }
   ],
   "source": [
    "import os\n",
    "import time\n",
    "from typing import List, Optional\n",
    "from dotenv import load_dotenv\n",
    "from llama_prompt import build_prompt, run_llama_translation\n",
    "\n",
    "load_dotenv()\n",
    "HF_TOKEN = os.getenv(\"HF_TOKEN\")\n",
    "\n",
    "if not HF_TOKEN:\n",
    "    raise ValueError(\"HF_TOKEN not found in .env file\")\n",
    "\n",
    "\n",
    "def translate_text(text: str, source: str, target: str) -> str:\n",
    "    if not text or not text.strip() or source == target:\n",
    "        return text\n",
    "\n",
    "    try:\n",
    "        prompt = build_prompt(text, source, target)\n",
    "        return run_llama_translation(prompt, HF_TOKEN)\n",
    "    except Exception as e:\n",
    "        return f\"[Error: {type(e).__name__}: {str(e)}]\"\n",
    "\n",
    "\n",
    "def translate_text_blocks(text_blocks: List[str], source: str, target: str, callback=None) -> List[str]:\n",
    "    translated = []\n",
    "    total = len(text_blocks)\n",
    "    for i, block in enumerate(text_blocks):\n",
    "        if callback:\n",
    "            callback((i + 1) / total, f\"Translating block {i + 1} of {total}\")\n",
    "        translated.append(translate_text(block, source, target))\n",
    "        if i < total - 1:\n",
    "            time.sleep(0.2)\n",
    "    return translated\n",
    "\n",
    "\n",
    "def detect_language(text: str) -> Optional[str]:\n",
    "    sample = text[:500].strip()\n",
    "    hindi_chars = sum(1 for char in sample if '\\u0900' <= char <= '\\u097F')\n",
    "    latin_chars = sum(1 for char in sample if char.isascii() and char.isalpha())\n",
    "    if hindi_chars > latin_chars:\n",
    "        return 'hi'\n",
    "    elif latin_chars > 0:\n",
    "        return 'en'\n",
    "    return None\n"
   ]
  },
  {
   "cell_type": "code",
   "execution_count": null,
   "id": "ef925b5f",
   "metadata": {},
   "outputs": [
    {
     "name": "stdout",
     "output_type": "stream",
     "text": [
      "Original: Please SAVE the FILE before exporting the PDF using our API.\n",
      "Translated: कृपया FILE को SAVE करें और PDF को निकालने के लिए हमारे API का उपयोग करने से पहले।\n"
     ]
    }
   ],
   "source": [
    "sample = \"Please SAVE the FILE before exporting the PDF using our API.\"\n",
    "translated = translate_text(sample, \"en\", \"hi\")\n",
    "print(\"Original:\", sample)\n",
    "print(\"Translated:\", translated)\n"
   ]
  },
  {
   "cell_type": "code",
   "execution_count": null,
   "id": "33752432",
   "metadata": {},
   "outputs": [],
   "source": []
  }
 ],
 "metadata": {
  "kernelspec": {
   "display_name": "pdftrans",
   "language": "python",
   "name": "python3"
  },
  "language_info": {
   "codemirror_mode": {
    "name": "ipython",
    "version": 3
   },
   "file_extension": ".py",
   "mimetype": "text/x-python",
   "name": "python",
   "nbconvert_exporter": "python",
   "pygments_lexer": "ipython3",
   "version": "3.10.18"
  }
 },
 "nbformat": 4,
 "nbformat_minor": 5
}
